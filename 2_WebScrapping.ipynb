{
  "nbformat": 4,
  "nbformat_minor": 0,
  "metadata": {
    "colab": {
      "provenance": []
    },
    "kernelspec": {
      "name": "python3",
      "display_name": "Python 3"
    },
    "language_info": {
      "name": "python"
    }
  },
  "cells": [
    {
      "cell_type": "code",
      "execution_count": null,
      "metadata": {
        "id": "9KKqlB3SFv5I"
      },
      "outputs": [],
      "source": [
        "import requests\n",
        "from bs4 import BeautifulSoup\n",
        "import csv\n",
        "import pandas as pd\n",
        "import json\n",
        "import html"
      ]
    },
    {
      "cell_type": "code",
      "source": [
        "def scrape_user_reviews(movie_id, is_fresh):\n",
        "    base_url = f\"https://www.rottentomatoes.com/napi/movie/{movie_id}/reviews/user\"\n",
        "    last = ''\n",
        "    reviews = []\n",
        "    while True:\n",
        "        url = base_url + '?after=' + last\n",
        "        response = requests.get(url)\n",
        "        if response.status_code != 200:\n",
        "          print('Unable to continue fetching:', movie_id)\n",
        "          break\n",
        "        response = response.json()\n",
        "        reviews += [[movie_id, html.unescape(x['quote']), is_fresh] for x in response['reviews'] if (x['rating'] - 3.5 > 0) == is_fresh]\n",
        "\n",
        "        if len(reviews) >= 20 or not response['pageInfo']['hasNextPage']:\n",
        "            break\n",
        "        last = response['pageInfo']['endCursor']\n",
        "\n",
        "    return reviews"
      ],
      "metadata": {
        "id": "FcJMMwqpGECO"
      },
      "execution_count": null,
      "outputs": []
    },
    {
      "cell_type": "code",
      "source": [
        "def scrape_critics_reviews(movie_id, is_fresh):\n",
        "    base_url = f\"https://www.rottentomatoes.com/napi/movie/{movie_id}/reviews/all\"\n",
        "    last = ''\n",
        "    reviews = []\n",
        "    while True:\n",
        "        url = base_url + '?after=' + last\n",
        "        response = requests.get(url)\n",
        "        if response.status_code != 200:\n",
        "          print('Unable to continue fetching:', movie_id)\n",
        "          break\n",
        "        response = response.json()\n",
        "        reviews += [[movie_id, html.unescape(x['quote']), is_fresh] for x in response['reviews'] if x['isFresh'] == is_fresh]\n",
        "\n",
        "        if len(reviews) >= 20 or not response['pageInfo']['hasNextPage']:\n",
        "            break\n",
        "        last = response['pageInfo']['endCursor']\n",
        "\n",
        "    return reviews"
      ],
      "metadata": {
        "id": "-1AV2nXYGEZy"
      },
      "execution_count": null,
      "outputs": []
    },
    {
      "cell_type": "code",
      "source": [
        "f_critics = pd.read_csv('f_critics.csv', index_col=1)\n",
        "f_audience = pd.read_csv('f_audience.csv', index_col=1)\n",
        "ids = pd.read_csv('movie_ids.csv', index_col=1)"
      ],
      "metadata": {
        "id": "JJS2ZzYGHrMq"
      },
      "execution_count": null,
      "outputs": []
    },
    {
      "cell_type": "code",
      "source": [
        "ids_critics = ids.loc[f_critics.index.intersection(ids.index)]"
      ],
      "metadata": {
        "id": "4Nnn7DyEH_TK"
      },
      "execution_count": null,
      "outputs": []
    },
    {
      "cell_type": "code",
      "source": [
        "ids_audience = ids.loc[f_audience.index.intersection(ids.index)]"
      ],
      "metadata": {
        "id": "Ezy0MtIPIWiv"
      },
      "execution_count": null,
      "outputs": []
    },
    {
      "cell_type": "code",
      "source": [
        "critics_reviews = []\n",
        "i = 0\n",
        "for mid in ids_critics.id.values:\n",
        "  reviews = scrape_critics_reviews(mid, True)\n",
        "  if not reviews:\n",
        "    continue\n",
        "  critics_reviews += reviews\n",
        "  i += 1\n",
        "  if i % 20 == 0:\n",
        "    print(i)"
      ],
      "metadata": {
        "colab": {
          "base_uri": "https://localhost:8080/"
        },
        "id": "K8R3atONIePd",
        "outputId": "2830f582-9d84-4300-a5d1-373b801eebe6"
      },
      "execution_count": null,
      "outputs": [
        {
          "output_type": "stream",
          "name": "stdout",
          "text": [
            "20\n",
            "40\n",
            "60\n",
            "80\n",
            "100\n",
            "120\n",
            "140\n",
            "160\n",
            "180\n",
            "200\n",
            "220\n",
            "240\n",
            "260\n",
            "280\n",
            "300\n",
            "320\n",
            "340\n",
            "360\n",
            "380\n",
            "400\n",
            "420\n",
            "440\n",
            "460\n",
            "480\n"
          ]
        }
      ]
    },
    {
      "cell_type": "code",
      "source": [
        "pd.DataFrame(critics_reviews, columns=['id', 'review_content', 'is_fresh']).set_index('id').to_csv('critics_fresh.csv', index='id')"
      ],
      "metadata": {
        "id": "gJ2fZuLtLCzD"
      },
      "execution_count": null,
      "outputs": []
    },
    {
      "cell_type": "code",
      "source": [
        "critics_reviews_a = []\n",
        "i = 0\n",
        "for mid in ids_audience.id.values:\n",
        "  try:\n",
        "    reviews = scrape_critics_reviews(mid, False)\n",
        "    if not reviews:\n",
        "      continue\n",
        "  except Exception as e:\n",
        "    print('error', str(e))\n",
        "    continue\n",
        "  critics_reviews_a += reviews\n",
        "  i += 1\n",
        "  if i % 20 == 0:\n",
        "    print(i)"
      ],
      "metadata": {
        "colab": {
          "base_uri": "https://localhost:8080/"
        },
        "id": "7xpAPPoALqwU",
        "outputId": "fe9cbe63-4ee7-47cd-a399-9bd4cb986d0e"
      },
      "execution_count": null,
      "outputs": [
        {
          "output_type": "stream",
          "name": "stdout",
          "text": [
            "20\n",
            "40\n",
            "60\n",
            "80\n",
            "100\n",
            "120\n",
            "140\n",
            "160\n",
            "180\n",
            "200\n",
            "220\n",
            "240\n",
            "260\n",
            "280\n",
            "300\n",
            "320\n",
            "340\n",
            "360\n",
            "380\n",
            "400\n",
            "420\n",
            "440\n",
            "460\n",
            "480\n"
          ]
        }
      ]
    },
    {
      "cell_type": "code",
      "source": [
        "pd.DataFrame(critics_reviews_a, columns=['id', 'review_content', 'is_fresh']).set_index('id').to_csv('critics_rotten.csv', index='id')"
      ],
      "metadata": {
        "id": "QwO6TCyWONLU"
      },
      "execution_count": null,
      "outputs": []
    },
    {
      "cell_type": "code",
      "source": [
        "audience_reviews1 = []\n",
        "i = 0\n",
        "for mid in ids_audience.id.values:\n",
        "  try:\n",
        "    reviews = scrape_user_reviews(mid, True)\n",
        "    if not reviews:\n",
        "      continue\n",
        "  except Exception as e:\n",
        "    print('error', mid, str(e))\n",
        "  audience_reviews1 += reviews\n",
        "  i += 1\n",
        "  if i % 20 == 0:\n",
        "    print(i)"
      ],
      "metadata": {
        "colab": {
          "base_uri": "https://localhost:8080/"
        },
        "id": "ObG3zC0BOs2r",
        "outputId": "ec587fab-a2f8-4605-8336-79473f46e178"
      },
      "execution_count": null,
      "outputs": [
        {
          "output_type": "stream",
          "name": "stdout",
          "text": [
            "20\n",
            "40\n",
            "60\n",
            "80\n",
            "100\n",
            "120\n",
            "140\n",
            "160\n",
            "180\n",
            "200\n",
            "220\n",
            "240\n",
            "260\n",
            "280\n",
            "300\n",
            "320\n",
            "340\n",
            "360\n",
            "380\n",
            "400\n",
            "420\n",
            "440\n",
            "460\n",
            "480\n"
          ]
        }
      ]
    },
    {
      "cell_type": "code",
      "source": [
        "pd.DataFrame(audience_reviews1, columns=['id', 'review_content', 'is_fresh']).set_index('id').to_csv('audience_fresh.csv', index='id')"
      ],
      "metadata": {
        "id": "dgl3b3jtSGoD"
      },
      "execution_count": null,
      "outputs": []
    },
    {
      "cell_type": "code",
      "source": [
        "audience_reviews2 = []\n",
        "i = 0\n",
        "for mid in ids_critics.id.values:\n",
        "  try:\n",
        "    reviews = scrape_user_reviews(mid, False)\n",
        "    if not reviews:\n",
        "      continue\n",
        "  except Exception as e:\n",
        "    print('error', mid, str(e))\n",
        "  audience_reviews2 += reviews\n",
        "  i += 1\n",
        "  if i % 20 == 0:\n",
        "    print(i)"
      ],
      "metadata": {
        "colab": {
          "base_uri": "https://localhost:8080/"
        },
        "id": "C2icWR-GSWQl",
        "outputId": "fd30c362-0471-475f-930b-8d36133f7b94"
      },
      "execution_count": null,
      "outputs": [
        {
          "output_type": "stream",
          "name": "stdout",
          "text": [
            "20\n",
            "40\n",
            "60\n",
            "80\n",
            "100\n",
            "120\n",
            "140\n",
            "160\n",
            "180\n",
            "200\n",
            "220\n",
            "240\n",
            "260\n",
            "280\n",
            "300\n",
            "320\n",
            "340\n",
            "360\n",
            "380\n",
            "400\n",
            "420\n",
            "440\n",
            "460\n",
            "480\n"
          ]
        }
      ]
    },
    {
      "cell_type": "code",
      "source": [
        "pd.DataFrame(audience_reviews2, columns=['id', 'review_content', 'is_fresh']).set_index('id').to_csv('audience_rotten.csv', index='id')"
      ],
      "metadata": {
        "id": "hPAzc6ZFT046"
      },
      "execution_count": null,
      "outputs": []
    }
  ]
}