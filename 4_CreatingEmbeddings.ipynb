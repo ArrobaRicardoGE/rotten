{
 "cells": [
  {
   "cell_type": "code",
   "execution_count": 17,
   "id": "10017369",
   "metadata": {},
   "outputs": [],
   "source": [
    "import pandas as pd\n",
    "from openai import OpenAI\n",
    "import tiktoken\n",
    "import chromadb \n",
    "from collections import defaultdict"
   ]
  },
  {
   "cell_type": "code",
   "execution_count": 2,
   "id": "86152083",
   "metadata": {},
   "outputs": [],
   "source": [
    "f_audience = pd.read_csv('dataset/f_audience.csv', index_col=1)\n",
    "f_critics = pd.read_csv('dataset/f_critics.csv', index_col=1)"
   ]
  },
  {
   "cell_type": "code",
   "execution_count": 3,
   "id": "73b6a95d",
   "metadata": {},
   "outputs": [],
   "source": [
    "r_audience = pd.read_csv('dataset/audience_reviews_clean_v2.csv', index_col=0)\n",
    "r_critics = pd.read_csv('dataset/critics_reviews_clean_v2.csv', index_col=0)"
   ]
  },
  {
   "cell_type": "code",
   "execution_count": 4,
   "id": "f637674f",
   "metadata": {},
   "outputs": [],
   "source": [
    "ra_fa = r_audience.loc[f_audience.index.intersection(r_audience.index)]\n",
    "ra_fc = r_audience.loc[f_critics.index.intersection(r_audience.index)]\n",
    "rc_fa = r_critics.loc[f_audience.index.intersection(r_critics.index)]\n",
    "rc_fc = r_critics.loc[f_critics.index.intersection(r_critics.index)]"
   ]
  },
  {
   "cell_type": "code",
   "execution_count": 5,
   "id": "9611aa7a",
   "metadata": {},
   "outputs": [],
   "source": [
    "oai = OpenAI()\n",
    "def get_embeddings(texts):\n",
    "    response = oai.embeddings.create(\n",
    "        input=texts,\n",
    "        model=\"text-embedding-3-small\"\n",
    "    )\n",
    "    return response.data"
   ]
  },
  {
   "cell_type": "code",
   "execution_count": 6,
   "id": "5f6fbe5e",
   "metadata": {},
   "outputs": [],
   "source": [
    "encoding = tiktoken.encoding_for_model(\"text-embedding-3-small\")\n",
    "def get_token_count(s):\n",
    "    return len(encoding.encode(s))\n",
    "def get_corpus_token_count(corpus):\n",
    "    total = 0\n",
    "    for text in corpus:\n",
    "        total += get_token_count(text)\n",
    "    return total"
   ]
  },
  {
   "cell_type": "code",
   "execution_count": 7,
   "id": "33a658a1",
   "metadata": {},
   "outputs": [
    {
     "data": {
      "text/plain": [
       "1939126"
      ]
     },
     "execution_count": 7,
     "metadata": {},
     "output_type": "execute_result"
    }
   ],
   "source": [
    "get_corpus_token_count(r_audience.review_content.values) + get_corpus_token_count(r_critics.review_content.values)"
   ]
  },
  {
   "cell_type": "code",
   "execution_count": 31,
   "id": "c8ea675a",
   "metadata": {},
   "outputs": [],
   "source": [
    "client = chromadb.PersistentClient('embeddings')\n",
    "openai_ef = chromadb.utils.embedding_functions.OpenAIEmbeddingFunction(\n",
    "        model_name=\"text-embedding-3-small\"\n",
    "    )\n",
    "c_ra_fa = client.create_collection(\n",
    "                'ra_fa', \n",
    "                embedding_function=openai_ef, \n",
    "                metadata={\"hnsw:space\": \"cosine\"})\n",
    "c_ra_fc = client.create_collection(\n",
    "                'ra_fc', \n",
    "                embedding_function=openai_ef, \n",
    "                metadata={\"hnsw:space\": \"cosine\"})\n",
    "c_rc_fa = client.create_collection(\n",
    "                'rc_fa', \n",
    "                embedding_function=openai_ef, \n",
    "                metadata={\"hnsw:space\": \"cosine\"})\n",
    "c_rc_fc = client.create_collection(\n",
    "                'rc_fc', \n",
    "                embedding_function=openai_ef, \n",
    "                metadata={\"hnsw:space\": \"cosine\"})"
   ]
  },
  {
   "cell_type": "code",
   "execution_count": 63,
   "id": "d62fe2a7",
   "metadata": {},
   "outputs": [],
   "source": [
    "batch_size = 2000\n",
    "def load_corpus_into_db(corpus, collection):\n",
    "    used = defaultdict(int)\n",
    "    for i in range(0, len(corpus), batch_size):\n",
    "        batch = corpus.iloc[i:i + batch_size]\n",
    "        ids = list(batch.index.values)\n",
    "        new_ids = []\n",
    "        for mid in ids:\n",
    "            new_id = f\"{mid}/{used[mid]}\"\n",
    "            new_ids.append(new_id)\n",
    "            used[mid] += 1\n",
    "        collection.add(\n",
    "            ids=new_ids,\n",
    "            documents=list(batch.review_content.values)\n",
    "        )"
   ]
  },
  {
   "cell_type": "code",
   "execution_count": 64,
   "id": "a2faef3c",
   "metadata": {},
   "outputs": [],
   "source": [
    "load_corpus_into_db(ra_fa, c_ra_fa)\n",
    "load_corpus_into_db(ra_fc, c_ra_fc)\n",
    "load_corpus_into_db(rc_fc, c_rc_fc)\n",
    "load_corpus_into_db(rc_fa, c_rc_fa)"
   ]
  },
  {
   "cell_type": "code",
   "execution_count": 80,
   "id": "574961d4",
   "metadata": {},
   "outputs": [
    {
     "data": {
      "text/plain": [
       "{'ids': [['m/little_evil/19',\n",
       "   'm/bedlam/6',\n",
       "   'm/patrick_evil_awakens/0',\n",
       "   'm/the_dead_center/1',\n",
       "   'm/dig_two_graves_2017/19',\n",
       "   'm/10008613-burrowers/0',\n",
       "   'm/the_funhouse_massacre/1',\n",
       "   'm/antibirth/18',\n",
       "   'm/arachnophobia/5',\n",
       "   'm/we_are_what_we_are_2013/28']],\n",
       " 'distances': [[0.4080613851547241,\n",
       "   0.4525904059410095,\n",
       "   0.4588698744773865,\n",
       "   0.46502822637557983,\n",
       "   0.4681416153907776,\n",
       "   0.47131937742233276,\n",
       "   0.47191721200942993,\n",
       "   0.47357577085494995,\n",
       "   0.4797324538230896,\n",
       "   0.4826468825340271]],\n",
       " 'metadatas': [[None, None, None, None, None, None, None, None, None, None]],\n",
       " 'embeddings': None,\n",
       " 'documents': [['great horror satire.',\n",
       "   'not really a horror movie.',\n",
       "   'that so called horror was laughable.',\n",
       "   'psychological horror at its best!',\n",
       "   'a pretty meh, \"horror\" movie.',\n",
       "   'good western horror & period piece.',\n",
       "   \"fun horror comedy that doesn't take itself too seriously.\",\n",
       "   'budget gross-out horror.',\n",
       "   'an enjoyable creature horror film',\n",
       "   'a film for horror buffs obviously made and competently made by a horror buff, we are what we are subverts genre cliches and brings an intelligent, well crafted and well acted horror film that has enough gore and thrills to satisfy gore hounds and horror buffs and a compelling and rich story to keep others intrigued.']],\n",
       " 'uris': None,\n",
       " 'data': None}"
      ]
     },
     "execution_count": 80,
     "metadata": {},
     "output_type": "execute_result"
    }
   ],
   "source": [
    "c_ra_fc.query(query_texts=['horror'])"
   ]
  }
 ],
 "metadata": {
  "kernelspec": {
   "display_name": "Python 3 (ipykernel)",
   "language": "python",
   "name": "python3"
  },
  "language_info": {
   "codemirror_mode": {
    "name": "ipython",
    "version": 3
   },
   "file_extension": ".py",
   "mimetype": "text/x-python",
   "name": "python",
   "nbconvert_exporter": "python",
   "pygments_lexer": "ipython3",
   "version": "3.11.5"
  }
 },
 "nbformat": 4,
 "nbformat_minor": 5
}
